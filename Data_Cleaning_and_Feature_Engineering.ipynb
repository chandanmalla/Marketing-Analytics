{
 "cells": [
  {
   "cell_type": "code",
   "execution_count": 2,
   "id": "f6d9075c",
   "metadata": {},
   "outputs": [],
   "source": [
    "import pandas as pd\n",
    "import seaborn as sns\n",
    "import matplotlib.pyplot as plt\n",
    "import numpy as np\n",
    "import datetime as DT\n",
    "import io"
   ]
  },
  {
   "cell_type": "code",
   "execution_count": 3,
   "id": "9752a369",
   "metadata": {},
   "outputs": [],
   "source": [
    "purchase_data = pd.read_excel('./Purchase Data/Combined Purchase Data_Final.xlsx')\n",
    "survey_data = pd.read_excel('./Survey Data/Combined_Response_Data.xlsx')"
   ]
  },
  {
   "cell_type": "markdown",
   "id": "3d53583b",
   "metadata": {},
   "source": [
    "# 1) Data Cleaning"
   ]
  },
  {
   "cell_type": "markdown",
   "id": "92fad8d7",
   "metadata": {},
   "source": [
    "    1) Most of the Data Cleaning was Done Manually\n",
    "    2) Group 1 and Group 2 data was pretty much botched up\n",
    "    3) GST and MRP data was botched up for majority\n",
    "    4) Order Date data was also not correct, as Group 1 and Group 2 were using their own version of date formatting\n",
    "    5) State and City Data was also botched up.\n",
    "    5) Categories, Subcategories and Ratings was added using Beautifull soup from FLipkart website directly.\n",
    "    6) Not every product was found, we had to manually add data for those products.\n",
    "    7) Above all aspects of Data Cleaning was done manually\n",
    "    8) Any remaining Data cleaning will be done in pythonic way"
   ]
  },
  {
   "cell_type": "markdown",
   "id": "e8c5e3b3",
   "metadata": {},
   "source": [
    "## 1.1) Purchase Data"
   ]
  },
  {
   "cell_type": "markdown",
   "id": "309b5b9a",
   "metadata": {},
   "source": [
    "###### Checking %ntage of NaN data before Cleaning"
   ]
  },
  {
   "cell_type": "code",
   "execution_count": 52,
   "id": "974c601f",
   "metadata": {},
   "outputs": [
    {
     "name": "stdout",
     "output_type": "stream",
     "text": [
      "% Data NaN\n",
      " Invoice ID         0.000000\n",
      "Name on Invoice    0.000000\n",
      "Order Date         0.000000\n",
      "State              0.000000\n",
      "City               0.000000\n",
      "Pin                0.000000\n",
      "Title              0.000000\n",
      "Categories         0.000000\n",
      "Subcategories      0.000000\n",
      "Ratings            2.044668\n",
      "Quantity           0.000000\n",
      "MRP                0.000000\n",
      "Discount           0.000000\n",
      "Delivery Fee       0.000000\n",
      "GST                0.000000\n",
      "Final Price        0.000000\n",
      "GST%               0.000000\n",
      "dtype: float64\n"
     ]
    }
   ],
   "source": [
    "print('% Data NaN\\n',purchase_data.isna().sum()*100/purchase_data.shape[0])\n"
   ]
  },
  {
   "cell_type": "markdown",
   "id": "e294db69",
   "metadata": {},
   "source": [
    "###### Mean Imputation for Ratings Column"
   ]
  },
  {
   "cell_type": "code",
   "execution_count": 53,
   "id": "5ff85419",
   "metadata": {},
   "outputs": [],
   "source": [
    "purchase_data.loc[purchase_data['Ratings'].isna(),'Ratings'] = purchase_data['Ratings'].mean()"
   ]
  },
  {
   "cell_type": "markdown",
   "id": "44af5354",
   "metadata": {},
   "source": [
    "###### Checking %ntage of NaN data after Cleaning / Imputation"
   ]
  },
  {
   "cell_type": "code",
   "execution_count": 54,
   "id": "ce73920f",
   "metadata": {},
   "outputs": [
    {
     "name": "stdout",
     "output_type": "stream",
     "text": [
      "% Data NaN\n",
      " Invoice ID         0.0\n",
      "Name on Invoice    0.0\n",
      "Order Date         0.0\n",
      "State              0.0\n",
      "City               0.0\n",
      "Pin                0.0\n",
      "Title              0.0\n",
      "Categories         0.0\n",
      "Subcategories      0.0\n",
      "Ratings            0.0\n",
      "Quantity           0.0\n",
      "MRP                0.0\n",
      "Discount           0.0\n",
      "Delivery Fee       0.0\n",
      "GST                0.0\n",
      "Final Price        0.0\n",
      "GST%               0.0\n",
      "dtype: float64\n"
     ]
    }
   ],
   "source": [
    "print('% Data NaN\\n',purchase_data.isna().sum()*100/purchase_data.shape[0])\n"
   ]
  },
  {
   "cell_type": "markdown",
   "id": "eb8408a7",
   "metadata": {},
   "source": [
    "###### Converting Column to Date type"
   ]
  },
  {
   "cell_type": "code",
   "execution_count": 55,
   "id": "4ff59149",
   "metadata": {
    "scrolled": true
   },
   "outputs": [],
   "source": [
    "purchase_data['Order Date'] =  pd.to_datetime(purchase_data['Order Date'])"
   ]
  },
  {
   "cell_type": "markdown",
   "id": "bd363e79",
   "metadata": {},
   "source": [
    "###### Converting Numeric GST Value to Proper Slabs"
   ]
  },
  {
   "cell_type": "code",
   "execution_count": 56,
   "id": "7f8d90e9",
   "metadata": {},
   "outputs": [],
   "source": [
    "purchase_data.loc[purchase_data['GST%']<=0.025,'GST%%'] = '0%'\n",
    "purchase_data.loc[(purchase_data['GST%']>0.025) & (purchase_data['GST%']<=0.08) ,'GST%%'] = '5%'\n",
    "purchase_data.loc[(purchase_data['GST%']>0.08) & (purchase_data['GST%']<=0.145),'GST%%'] = '12%'\n",
    "purchase_data.loc[(purchase_data['GST%']>0.145) & (purchase_data['GST%']<=0.23),'GST%%'] = '18%'\n",
    "purchase_data.loc[(purchase_data['GST%']>0.23),'GST%%'] = '28%'\n",
    "\n",
    "purchase_data.drop('GST%',axis=1,inplace=True)"
   ]
  },
  {
   "cell_type": "code",
   "execution_count": 57,
   "id": "74770b8a",
   "metadata": {},
   "outputs": [],
   "source": [
    "purchase_data.to_csv('Cleaned_Combined_Purchase_data.csv')"
   ]
  },
  {
   "cell_type": "markdown",
   "id": "ec0c9de3",
   "metadata": {},
   "source": [
    "## 1.2) Survey Data"
   ]
  },
  {
   "cell_type": "markdown",
   "id": "e38eecc4",
   "metadata": {},
   "source": [
    " ###### Checking %ntage of NaN data before Cleaning\n"
   ]
  },
  {
   "cell_type": "code",
   "execution_count": 72,
   "id": "0b2c9cb7",
   "metadata": {},
   "outputs": [
    {
     "name": "stdout",
     "output_type": "stream",
     "text": [
      "% Data NaN\n",
      " Name                                                                                    0.000000\n",
      "Gender                                                                                  0.000000\n",
      "Date of birth                                                                           0.000000\n",
      "Current Job Title                                                                       0.000000\n",
      "Current City of Residence                                                               0.000000\n",
      "Language spoken at home/Mother tongue                                                   0.000000\n",
      "Marital Status                                                                          0.000000\n",
      "Number of children                                                                      0.000000\n",
      "Do you have to care for anyone with chronic illness?                                    0.000000\n",
      "Income (per month)                                                                      0.000000\n",
      "Preferred Mode of Payment                                                               0.000000\n",
      "Do you practise meditation? Yes/No                                                      0.000000\n",
      "If yes                                                                                  0.000000\n",
      "Do you do any form of exercise?                                                         0.000000\n",
      "If yes.1                                                                                0.000000\n",
      " How often do you volunteer for social-service activities?                              0.000000\n",
      "Please list your Hobbies/Interests                                                     11.513158\n",
      "How often do you pursue your hobbies?                                                   5.592105\n",
      "In most ways, my life is close to my ideal                                              0.657895\n",
      "The Conditions in my life are excellent.                                                0.328947\n",
      "So far, I have got the important things I want in my life                               0.657895\n",
      "If I could live my life over, I would change almost nothing                             0.657895\n",
      "Many people have directly or indirectly contributed to my progress in life              0.000000\n",
      "I feel good when I co-operate with others                                               0.657895\n",
      "When making a decision, I take other people's needs and feelings into account.          0.000000\n",
      "It is my duty to take care of my family, even when I have to sacrifice what I want.     0.000000\n",
      "Honesty is important to achieve success                                                 0.000000\n",
      "Social inequalities bother me                                                           0.328947\n",
      "What I am today is solely because of my hard work and talent                            0.000000\n",
      "People should keep their troubles to themselves                                         0.000000\n",
      "It is important that I do my job better than others                                     0.657895\n",
      "Winning is everything                                                                   0.000000\n",
      "I don’t worry about others as long as I am happy                                        0.328947\n",
      "It upsets me when my work is not recognized by others                                   0.328947\n",
      "Traditional values are important for me                                                 0.328947\n",
      "I plan for the long-term                                                                0.328947\n",
      "I am willing to give up today’s fun for future success                                  2.960526\n",
      "I believe persistence is key to success                                                 2.960526\n",
      "Saving money is important to me                                                         2.960526\n",
      "It is okay to use shortcuts to get what you want                                        2.960526\n",
      "I like to get quick results                                                             2.960526\n",
      "I would rather spend money today than save for future                                   2.960526\n",
      "When my routine is disturbed, it upsets me                                              2.960526\n",
      "I admire people who own expensive homes, cars, and clothes                              3.289474\n",
      "The things I own say a lot about how well I’m doing in life                             3.289474\n",
      "I aspire a luxurious and comfortable lifestyle                                          3.289474\n",
      "My life would be better if I owned certain things I don’t have                          3.289474\n",
      "I’d be happier if I could afford to buy more things                                     3.618421\n",
      "I don’t pay much attention to the material objects other people own                     4.276316\n",
      "I usually buy only the things I need                                                    4.605263\n",
      "I have all the things I really need to enjoy life                                       3.289474\n",
      "My happiness does not depend on things I own                                            3.289474\n",
      "There is a higher purpose to life than comfort and luxury                               3.618421\n",
      "I believe success in life does not mean becoming rich                                   3.947368\n",
      "I segregate waste before its disposal                                                   3.618421\n",
      "I try to conserve water                                                                 3.618421\n",
      "I try to educate people I know about climate change                                     3.618421\n",
      "I sign petitions related to environmental issues                                        3.289474\n",
      "I try to conserve electricity                                                           3.618421\n",
      "I walk/cycle/use public transport to save fuel                                          4.276316\n",
      "dtype: float64\n"
     ]
    }
   ],
   "source": [
    "print('% Data NaN\\n',survey_data.isna().sum()*100/survey_data.shape[0])\n"
   ]
  },
  {
   "cell_type": "markdown",
   "id": "447230d5",
   "metadata": {},
   "source": [
    "###### Mode Imputation for categorical Columns"
   ]
  },
  {
   "cell_type": "code",
   "execution_count": 73,
   "id": "dec3a4bd",
   "metadata": {},
   "outputs": [],
   "source": [
    "survey_data.loc[survey_data['Please list your Hobbies/Interests'].isna(),'Please list your Hobbies/Interests'] \\\n",
    "= survey_data['Please list your Hobbies/Interests'].mode()[0]\n",
    "\n",
    "survey_data.loc[survey_data['How often do you pursue your hobbies?'].isna(),'How often do you pursue your hobbies?'] \\\n",
    "= survey_data['How often do you pursue your hobbies?'].mode()[0]\n"
   ]
  },
  {
   "cell_type": "markdown",
   "id": "7dd3d5cc",
   "metadata": {},
   "source": [
    "###### Median Imputation "
   ]
  },
  {
   "cell_type": "code",
   "execution_count": 74,
   "id": "cf4064ec",
   "metadata": {},
   "outputs": [],
   "source": [
    "columns_to_fix = ['In most ways, my life is close to my ideal',\n",
    "       'The Conditions in my life are excellent.',\n",
    "       'So far, I have got the important things I want in my life',\n",
    "       'If I could live my life over, I would change almost nothing',\n",
    "       'Many people have directly or indirectly contributed to my progress in life',\n",
    "       'I feel good when I co-operate with others',\n",
    "       'When making a decision, I take other people\\'s needs and feelings into account.',\n",
    "       'It is my duty to take care of my family, even when I have to sacrifice what I want.',\n",
    "       'Honesty is important to achieve success',\n",
    "       'Social inequalities bother me',\n",
    "       'What I am today is solely because of my hard work and talent',\n",
    "       'People should keep their troubles to themselves',\n",
    "       'It is important that I do my job better than others',\n",
    "       'Winning is everything',\n",
    "       'I don’t worry about others as long as I am happy',\n",
    "       'It upsets me when my work is not recognized by others',\n",
    "       'Traditional values are important for me', 'I plan for the long-term',\n",
    "       'I am willing to give up today’s fun for future success',\n",
    "       'I believe persistence is key to success',\n",
    "       'Saving money is important to me',\n",
    "       'It is okay to use shortcuts to get what you want',\n",
    "       'I like to get quick results',\n",
    "       'I would rather spend money today than save for future',\n",
    "       'When my routine is disturbed, it upsets me',\n",
    "       'I admire people who own expensive homes, cars, and clothes',\n",
    "       'The things I own say a lot about how well I’m doing in life',\n",
    "       'I aspire a luxurious and comfortable lifestyle',\n",
    "       'My life would be better if I owned certain things I don’t have',\n",
    "       'I’d be happier if I could afford to buy more things',\n",
    "       'I don’t pay much attention to the material objects other people own',\n",
    "       'I usually buy only the things I need',\n",
    "       'I have all the things I really need to enjoy life',\n",
    "       'My happiness does not depend on things I own',\n",
    "       'There is a higher purpose to life than comfort and luxury',\n",
    "       'I believe success in life does not mean becoming rich',\n",
    "       'I segregate waste before its disposal', 'I try to conserve water',\n",
    "       'I try to educate people I know about climate change',\n",
    "       'I sign petitions related to environmental issues',\n",
    "       'I try to conserve electricity',\n",
    "       'I walk/cycle/use public transport to save fuel']"
   ]
  },
  {
   "cell_type": "code",
   "execution_count": 75,
   "id": "a1b9b05e",
   "metadata": {
    "scrolled": true
   },
   "outputs": [],
   "source": [
    "for i in columns_to_fix:\n",
    "    survey_data.loc[survey_data[i].isna(),i] \\\n",
    "    = survey_data[i].median()"
   ]
  },
  {
   "cell_type": "markdown",
   "id": "3c087097",
   "metadata": {},
   "source": [
    " ###### Checking %ntage of NaN data after Cleaning / Imputation\n"
   ]
  },
  {
   "cell_type": "code",
   "execution_count": 76,
   "id": "c6b93632",
   "metadata": {},
   "outputs": [
    {
     "name": "stdout",
     "output_type": "stream",
     "text": [
      "% Data NaN\n",
      " Name                                                                                   0.0\n",
      "Gender                                                                                 0.0\n",
      "Date of birth                                                                          0.0\n",
      "Current Job Title                                                                      0.0\n",
      "Current City of Residence                                                              0.0\n",
      "Language spoken at home/Mother tongue                                                  0.0\n",
      "Marital Status                                                                         0.0\n",
      "Number of children                                                                     0.0\n",
      "Do you have to care for anyone with chronic illness?                                   0.0\n",
      "Income (per month)                                                                     0.0\n",
      "Preferred Mode of Payment                                                              0.0\n",
      "Do you practise meditation? Yes/No                                                     0.0\n",
      "If yes                                                                                 0.0\n",
      "Do you do any form of exercise?                                                        0.0\n",
      "If yes.1                                                                               0.0\n",
      " How often do you volunteer for social-service activities?                             0.0\n",
      "Please list your Hobbies/Interests                                                     0.0\n",
      "How often do you pursue your hobbies?                                                  0.0\n",
      "In most ways, my life is close to my ideal                                             0.0\n",
      "The Conditions in my life are excellent.                                               0.0\n",
      "So far, I have got the important things I want in my life                              0.0\n",
      "If I could live my life over, I would change almost nothing                            0.0\n",
      "Many people have directly or indirectly contributed to my progress in life             0.0\n",
      "I feel good when I co-operate with others                                              0.0\n",
      "When making a decision, I take other people's needs and feelings into account.         0.0\n",
      "It is my duty to take care of my family, even when I have to sacrifice what I want.    0.0\n",
      "Honesty is important to achieve success                                                0.0\n",
      "Social inequalities bother me                                                          0.0\n",
      "What I am today is solely because of my hard work and talent                           0.0\n",
      "People should keep their troubles to themselves                                        0.0\n",
      "It is important that I do my job better than others                                    0.0\n",
      "Winning is everything                                                                  0.0\n",
      "I don’t worry about others as long as I am happy                                       0.0\n",
      "It upsets me when my work is not recognized by others                                  0.0\n",
      "Traditional values are important for me                                                0.0\n",
      "I plan for the long-term                                                               0.0\n",
      "I am willing to give up today’s fun for future success                                 0.0\n",
      "I believe persistence is key to success                                                0.0\n",
      "Saving money is important to me                                                        0.0\n",
      "It is okay to use shortcuts to get what you want                                       0.0\n",
      "I like to get quick results                                                            0.0\n",
      "I would rather spend money today than save for future                                  0.0\n",
      "When my routine is disturbed, it upsets me                                             0.0\n",
      "I admire people who own expensive homes, cars, and clothes                             0.0\n",
      "The things I own say a lot about how well I’m doing in life                            0.0\n",
      "I aspire a luxurious and comfortable lifestyle                                         0.0\n",
      "My life would be better if I owned certain things I don’t have                         0.0\n",
      "I’d be happier if I could afford to buy more things                                    0.0\n",
      "I don’t pay much attention to the material objects other people own                    0.0\n",
      "I usually buy only the things I need                                                   0.0\n",
      "I have all the things I really need to enjoy life                                      0.0\n",
      "My happiness does not depend on things I own                                           0.0\n",
      "There is a higher purpose to life than comfort and luxury                              0.0\n",
      "I believe success in life does not mean becoming rich                                  0.0\n",
      "I segregate waste before its disposal                                                  0.0\n",
      "I try to conserve water                                                                0.0\n",
      "I try to educate people I know about climate change                                    0.0\n",
      "I sign petitions related to environmental issues                                       0.0\n",
      "I try to conserve electricity                                                          0.0\n",
      "I walk/cycle/use public transport to save fuel                                         0.0\n",
      "dtype: float64\n"
     ]
    }
   ],
   "source": [
    "print('% Data NaN\\n',survey_data.isna().sum()*100/survey_data.shape[0])\n"
   ]
  },
  {
   "cell_type": "code",
   "execution_count": 77,
   "id": "a5741a63",
   "metadata": {},
   "outputs": [],
   "source": [
    "survey_data.to_csv('Cleaned_Survey_data.csv')"
   ]
  },
  {
   "cell_type": "markdown",
   "id": "39200a8b",
   "metadata": {},
   "source": [
    "###### Checkpoint 1"
   ]
  },
  {
   "cell_type": "code",
   "execution_count": 75,
   "id": "1bb54bde",
   "metadata": {},
   "outputs": [],
   "source": [
    "survey_data_final = pd.read_csv('Cleaned_Survey_data.csv')\n",
    "purchase_data_final = pd.read_csv('Cleaned_Combined_Purchase_data.csv')\n",
    "\n",
    "purchase_data_final.drop('Unnamed: 0',axis=1,inplace=True)\n",
    "survey_data_final.drop('Unnamed: 0',axis=1,inplace=True)\n",
    "\n",
    "##Convert to Date Format\n",
    "purchase_data_final['Order Date'] = pd.to_datetime(purchase_data_final['Order Date'])\n",
    "survey_data_final['Date of birth'] = pd.to_datetime(survey_data_final['Date of birth'])\n",
    "#purchase_data_final['Order Date'] = purchase_data_final['Order Date'].dt.strftime('%d/%m/%Y')\n",
    "purchase_data_final['Order Date'] = pd.to_datetime(purchase_data_final['Order Date'])\n"
   ]
  },
  {
   "cell_type": "markdown",
   "id": "69a753a0",
   "metadata": {},
   "source": [
    "# 2) Feature Engineering"
   ]
  },
  {
   "cell_type": "markdown",
   "id": "f3249162",
   "metadata": {},
   "source": [
    "## 2.1) Purchase Data"
   ]
  },
  {
   "cell_type": "markdown",
   "id": "7fbada88",
   "metadata": {},
   "source": [
    "###### Sale"
   ]
  },
  {
   "cell_type": "code",
   "execution_count": 2,
   "id": "d58a5b6c",
   "metadata": {},
   "outputs": [],
   "source": [
    "\n",
    "purchase_data_final = pd.read_csv('Cleaned_Combined_Purchase_data_Final_Feature_Engineering_2.csv')"
   ]
  },
  {
   "cell_type": "code",
   "execution_count": 79,
   "id": "5d54ee10",
   "metadata": {},
   "outputs": [
    {
     "data": {
      "text/html": [
       "<div>\n",
       "<style scoped>\n",
       "    .dataframe tbody tr th:only-of-type {\n",
       "        vertical-align: middle;\n",
       "    }\n",
       "\n",
       "    .dataframe tbody tr th {\n",
       "        vertical-align: top;\n",
       "    }\n",
       "\n",
       "    .dataframe thead th {\n",
       "        text-align: right;\n",
       "    }\n",
       "</style>\n",
       "<table border=\"1\" class=\"dataframe\">\n",
       "  <thead>\n",
       "    <tr style=\"text-align: right;\">\n",
       "      <th></th>\n",
       "      <th>Invoice ID</th>\n",
       "      <th>Name on Invoice</th>\n",
       "      <th>Order Date</th>\n",
       "      <th>State</th>\n",
       "      <th>City</th>\n",
       "      <th>Pin</th>\n",
       "      <th>Title</th>\n",
       "      <th>Categories</th>\n",
       "      <th>Subcategories</th>\n",
       "      <th>Ratings</th>\n",
       "      <th>Quantity</th>\n",
       "      <th>MRP</th>\n",
       "      <th>Discount</th>\n",
       "      <th>Delivery Fee</th>\n",
       "      <th>GST</th>\n",
       "      <th>Final Price</th>\n",
       "      <th>GST%%</th>\n",
       "    </tr>\n",
       "    <tr>\n",
       "      <th>Sale</th>\n",
       "      <th></th>\n",
       "      <th></th>\n",
       "      <th></th>\n",
       "      <th></th>\n",
       "      <th></th>\n",
       "      <th></th>\n",
       "      <th></th>\n",
       "      <th></th>\n",
       "      <th></th>\n",
       "      <th></th>\n",
       "      <th></th>\n",
       "      <th></th>\n",
       "      <th></th>\n",
       "      <th></th>\n",
       "      <th></th>\n",
       "      <th></th>\n",
       "      <th></th>\n",
       "    </tr>\n",
       "  </thead>\n",
       "  <tbody>\n",
       "    <tr>\n",
       "      <th>No</th>\n",
       "      <td>2468</td>\n",
       "      <td>2468</td>\n",
       "      <td>2468</td>\n",
       "      <td>2468</td>\n",
       "      <td>2468</td>\n",
       "      <td>2468</td>\n",
       "      <td>2468</td>\n",
       "      <td>2468</td>\n",
       "      <td>2468</td>\n",
       "      <td>2468</td>\n",
       "      <td>2468</td>\n",
       "      <td>2468</td>\n",
       "      <td>2468</td>\n",
       "      <td>2468</td>\n",
       "      <td>2468</td>\n",
       "      <td>2468</td>\n",
       "      <td>2468</td>\n",
       "    </tr>\n",
       "    <tr>\n",
       "      <th>Yes</th>\n",
       "      <td>711</td>\n",
       "      <td>711</td>\n",
       "      <td>711</td>\n",
       "      <td>711</td>\n",
       "      <td>711</td>\n",
       "      <td>711</td>\n",
       "      <td>711</td>\n",
       "      <td>711</td>\n",
       "      <td>711</td>\n",
       "      <td>711</td>\n",
       "      <td>711</td>\n",
       "      <td>711</td>\n",
       "      <td>711</td>\n",
       "      <td>711</td>\n",
       "      <td>711</td>\n",
       "      <td>711</td>\n",
       "      <td>711</td>\n",
       "    </tr>\n",
       "  </tbody>\n",
       "</table>\n",
       "</div>"
      ],
      "text/plain": [
       "      Invoice ID  Name on Invoice  Order Date  State  City   Pin  Title   \\\n",
       "Sale                                                                       \n",
       "No          2468             2468        2468   2468  2468  2468    2468   \n",
       "Yes          711              711         711    711   711   711     711   \n",
       "\n",
       "      Categories  Subcategories  Ratings  Quantity   MRP  Discount  \\\n",
       "Sale                                                                 \n",
       "No          2468           2468     2468      2468  2468      2468   \n",
       "Yes          711            711      711       711   711       711   \n",
       "\n",
       "      Delivery Fee   GST  Final Price  GST%%  \n",
       "Sale                                          \n",
       "No            2468  2468         2468   2468  \n",
       "Yes            711   711          711    711  "
      ]
     },
     "execution_count": 79,
     "metadata": {},
     "output_type": "execute_result"
    }
   ],
   "source": [
    "purchase_data_final.groupby('Sale').count()"
   ]
  },
  {
   "cell_type": "code",
   "execution_count": 77,
   "id": "94c0c7c1",
   "metadata": {},
   "outputs": [],
   "source": [
    "def sale_or_not(df,start_date,end_date):\n",
    "    df.loc[(df['Order Date']>start_date)  & (df['Order Date']<=end_date),'Sale'] = 'Yes'\n",
    "    df['Order Date'] = pd.to_datetime(df['Order Date'])\n",
    "    return df\n",
    "\n",
    "purchase_data_final['Sale'] = 'No'\n",
    "\n",
    "purchase_data_final = sale_or_not(purchase_data_final,'2019-01-20','2019-01-22')\n",
    "purchase_data_final = sale_or_not(purchase_data_final,'2019-06-01','2019-06-03')\n",
    "purchase_data_final = sale_or_not(purchase_data_final,'2019-03-07','2019-06-08')\n",
    "purchase_data_final = sale_or_not(purchase_data_final,'2019-05-15','2019-05-19')\n",
    "purchase_data_final = sale_or_not(purchase_data_final,'2019-06-11','2019-06-15')\n",
    "purchase_data_final = sale_or_not(purchase_data_final,'2019-07-05','2019-07-18')\n",
    "purchase_data_final = sale_or_not(purchase_data_final,'2019-08-08','2019-08-10')\n",
    "purchase_data_final = sale_or_not(purchase_data_final,'2019-09-29','2019-10-04')\n",
    "purchase_data_final = sale_or_not(purchase_data_final,'2019-10-12','2019-10-16')\n",
    "purchase_data_final = sale_or_not(purchase_data_final,'2019-12-01','2019-12-05')\n",
    "purchase_data_final = sale_or_not(purchase_data_final,'2019-12-21','2019-12-23')\n",
    "\n",
    "purchase_data_final = sale_or_not(purchase_data_final,'2020-01-19','2020-01-22')\n",
    "purchase_data_final = sale_or_not(purchase_data_final,'2020-03-19','2020-03-22')\n",
    "purchase_data_final = sale_or_not(purchase_data_final,'2020-06-23','2020-06-27')\n",
    "purchase_data_final = sale_or_not(purchase_data_final,'2020-07-08','2020-07-12')\n",
    "purchase_data_final = sale_or_not(purchase_data_final,'2020-08-06','2020-08-10')\n",
    "purchase_data_final = sale_or_not(purchase_data_final,'2020-09-18','2020-09-20')\n",
    "purchase_data_final = sale_or_not(purchase_data_final,'2020-10-16','2020-10-21')\n",
    "purchase_data_final = sale_or_not(purchase_data_final,'2020-10-29','2020-11-04')\n",
    "purchase_data_final = sale_or_not(purchase_data_final,'2020-11-08','2020-11-13')\n",
    "\n",
    "purchase_data_final = sale_or_not(purchase_data_final,'2021-01-01','2021-01-03')\n",
    "purchase_data_final = sale_or_not(purchase_data_final,'2021-01-20','2021-02-24')\n",
    "purchase_data_final = sale_or_not(purchase_data_final,'2021-02-01','2021-02-03')\n",
    "purchase_data_final = sale_or_not(purchase_data_final,'2021-03-24','2021-03-26')\n",
    "purchase_data_final = sale_or_not(purchase_data_final,'2021-04-01','2021-04-03')\n",
    "purchase_data_final = sale_or_not(purchase_data_final,'2021-04-09','2021-04-14')\n",
    "purchase_data_final = sale_or_not(purchase_data_final,'2021-05-02','2021-05-07')\n",
    "purchase_data_final = sale_or_not(purchase_data_final,'2021-06-13','2021-06-16')\n",
    "purchase_data_final = sale_or_not(purchase_data_final,'2021-06-23','2021-06-28')\n",
    "purchase_data_final = sale_or_not(purchase_data_final,'2021-07-25','2021-07-29')\n",
    "purchase_data_final = sale_or_not(purchase_data_final,'2021-07-01','2021-07-03')\n",
    "purchase_data_final = sale_or_not(purchase_data_final,'2021-08-10','2021-08-12')\n",
    "purchase_data_final = sale_or_not(purchase_data_final,'2021-08-18','2021-08-20')\n",
    "purchase_data_final = sale_or_not(purchase_data_final,'2021-08-05','2021-08-09')\n",
    "purchase_data_final = sale_or_not(purchase_data_final,'2021-09-07','2021-09-11')\n"
   ]
  },
  {
   "cell_type": "markdown",
   "id": "5e7e92be",
   "metadata": {},
   "source": [
    "###### Covid"
   ]
  },
  {
   "cell_type": "code",
   "execution_count": 81,
   "id": "5600392f",
   "metadata": {},
   "outputs": [
    {
     "data": {
      "text/html": [
       "<div>\n",
       "<style scoped>\n",
       "    .dataframe tbody tr th:only-of-type {\n",
       "        vertical-align: middle;\n",
       "    }\n",
       "\n",
       "    .dataframe tbody tr th {\n",
       "        vertical-align: top;\n",
       "    }\n",
       "\n",
       "    .dataframe thead th {\n",
       "        text-align: right;\n",
       "    }\n",
       "</style>\n",
       "<table border=\"1\" class=\"dataframe\">\n",
       "  <thead>\n",
       "    <tr style=\"text-align: right;\">\n",
       "      <th></th>\n",
       "      <th>Invoice ID</th>\n",
       "      <th>Name on Invoice</th>\n",
       "      <th>Order Date</th>\n",
       "      <th>State</th>\n",
       "      <th>City</th>\n",
       "      <th>Pin</th>\n",
       "      <th>Title</th>\n",
       "      <th>Categories</th>\n",
       "      <th>Subcategories</th>\n",
       "      <th>Ratings</th>\n",
       "      <th>Quantity</th>\n",
       "      <th>MRP</th>\n",
       "      <th>Discount</th>\n",
       "      <th>Delivery Fee</th>\n",
       "      <th>GST</th>\n",
       "      <th>Final Price</th>\n",
       "      <th>GST%%</th>\n",
       "      <th>Sale</th>\n",
       "      <th>Covid</th>\n",
       "    </tr>\n",
       "  </thead>\n",
       "  <tbody>\n",
       "    <tr>\n",
       "      <th>0</th>\n",
       "      <td>OD103719706054443200</td>\n",
       "      <td>G3M1R1</td>\n",
       "      <td>2015-08-23</td>\n",
       "      <td>Delhi</td>\n",
       "      <td>New Delhi</td>\n",
       "      <td>110063</td>\n",
       "      <td>Nova 2 SLICE SANDWICH GRILL MAKER Black &amp;</td>\n",
       "      <td>Home &amp; Kitchen</td>\n",
       "      <td>Kitchen Appliances</td>\n",
       "      <td>4.100000</td>\n",
       "      <td>1</td>\n",
       "      <td>1370.33</td>\n",
       "      <td>0.0</td>\n",
       "      <td>174.67</td>\n",
       "      <td>195.66</td>\n",
       "      <td>1545.00</td>\n",
       "      <td>18%</td>\n",
       "      <td>No</td>\n",
       "      <td>No</td>\n",
       "    </tr>\n",
       "    <tr>\n",
       "      <th>1</th>\n",
       "      <td>OD106420064045076000</td>\n",
       "      <td>G3M1R1</td>\n",
       "      <td>2016-01-07</td>\n",
       "      <td>Delhi</td>\n",
       "      <td>New Delhi</td>\n",
       "      <td>110031</td>\n",
       "      <td>Omron HEM-7120 Bp MonitoR</td>\n",
       "      <td>Health &amp; Personal Care Appliances</td>\n",
       "      <td>Health Care</td>\n",
       "      <td>4.300000</td>\n",
       "      <td>1</td>\n",
       "      <td>1164.76</td>\n",
       "      <td>0.0</td>\n",
       "      <td>95.24</td>\n",
       "      <td>60.00</td>\n",
       "      <td>1260.00</td>\n",
       "      <td>5%</td>\n",
       "      <td>No</td>\n",
       "      <td>No</td>\n",
       "    </tr>\n",
       "    <tr>\n",
       "      <th>2</th>\n",
       "      <td>OD106420064045076001</td>\n",
       "      <td>G3M1R1</td>\n",
       "      <td>2016-01-07</td>\n",
       "      <td>Delhi</td>\n",
       "      <td>New Delhi</td>\n",
       "      <td>110032</td>\n",
       "      <td>Johnson &amp; Johnson One Touch Select Glucose Mon...</td>\n",
       "      <td>Clothing and Accessories</td>\n",
       "      <td>Books</td>\n",
       "      <td>4.500000</td>\n",
       "      <td>1</td>\n",
       "      <td>596.67</td>\n",
       "      <td>0.0</td>\n",
       "      <td>133.33</td>\n",
       "      <td>34.77</td>\n",
       "      <td>730.00</td>\n",
       "      <td>5%</td>\n",
       "      <td>No</td>\n",
       "      <td>No</td>\n",
       "    </tr>\n",
       "    <tr>\n",
       "      <th>3</th>\n",
       "      <td>OD109711988579254000</td>\n",
       "      <td>G3M1R2</td>\n",
       "      <td>2017-07-17</td>\n",
       "      <td>Delhi</td>\n",
       "      <td>New Delhi</td>\n",
       "      <td>110003</td>\n",
       "      <td>HAANS Shakeit 500 ml Shaker, Sipper</td>\n",
       "      <td>Exercise &amp; Fitness</td>\n",
       "      <td>Fitness Accessories</td>\n",
       "      <td>4.300000</td>\n",
       "      <td>1</td>\n",
       "      <td>199.00</td>\n",
       "      <td>0.0</td>\n",
       "      <td>0.00</td>\n",
       "      <td>30.36</td>\n",
       "      <td>199.00</td>\n",
       "      <td>18%</td>\n",
       "      <td>No</td>\n",
       "      <td>No</td>\n",
       "    </tr>\n",
       "    <tr>\n",
       "      <th>4</th>\n",
       "      <td>OD109711988579254000</td>\n",
       "      <td>G3M1R2</td>\n",
       "      <td>2017-07-18</td>\n",
       "      <td>Delhi</td>\n",
       "      <td>New Delhi</td>\n",
       "      <td>110003</td>\n",
       "      <td>Muscletech Premium 100% Whey Protein Chocolate</td>\n",
       "      <td>Health Care</td>\n",
       "      <td>Health Supplements</td>\n",
       "      <td>4.100000</td>\n",
       "      <td>1</td>\n",
       "      <td>4162.00</td>\n",
       "      <td>0.0</td>\n",
       "      <td>0.00</td>\n",
       "      <td>910.44</td>\n",
       "      <td>4162.00</td>\n",
       "      <td>28%</td>\n",
       "      <td>No</td>\n",
       "      <td>No</td>\n",
       "    </tr>\n",
       "    <tr>\n",
       "      <th>...</th>\n",
       "      <td>...</td>\n",
       "      <td>...</td>\n",
       "      <td>...</td>\n",
       "      <td>...</td>\n",
       "      <td>...</td>\n",
       "      <td>...</td>\n",
       "      <td>...</td>\n",
       "      <td>...</td>\n",
       "      <td>...</td>\n",
       "      <td>...</td>\n",
       "      <td>...</td>\n",
       "      <td>...</td>\n",
       "      <td>...</td>\n",
       "      <td>...</td>\n",
       "      <td>...</td>\n",
       "      <td>...</td>\n",
       "      <td>...</td>\n",
       "      <td>...</td>\n",
       "      <td>...</td>\n",
       "    </tr>\n",
       "    <tr>\n",
       "      <th>3174</th>\n",
       "      <td>FAC5OU2100002091</td>\n",
       "      <td>G1M2R12</td>\n",
       "      <td>2020-05-18</td>\n",
       "      <td>Kerala</td>\n",
       "      <td>Anakkayam</td>\n",
       "      <td>676509</td>\n",
       "      <td>Patanjali DIVYA MADHUNASHINI VATI EXTRA</td>\n",
       "      <td>Health Care</td>\n",
       "      <td>Home Medicines</td>\n",
       "      <td>4.200000</td>\n",
       "      <td>1</td>\n",
       "      <td>563.00</td>\n",
       "      <td>0.0</td>\n",
       "      <td>59.00</td>\n",
       "      <td>0.00</td>\n",
       "      <td>622.00</td>\n",
       "      <td>0%</td>\n",
       "      <td>No</td>\n",
       "      <td>No</td>\n",
       "    </tr>\n",
       "    <tr>\n",
       "      <th>3175</th>\n",
       "      <td>FADVJD2100007635</td>\n",
       "      <td>G1M2R12</td>\n",
       "      <td>2020-10-18</td>\n",
       "      <td>Kerala</td>\n",
       "      <td>Anakkayam</td>\n",
       "      <td>676509</td>\n",
       "      <td>DIVYA PHARMACY KAISHORE GUGGUL 80</td>\n",
       "      <td>Health Care</td>\n",
       "      <td>Home Medicines</td>\n",
       "      <td>3.900000</td>\n",
       "      <td>1</td>\n",
       "      <td>234.00</td>\n",
       "      <td>0.0</td>\n",
       "      <td>48.21</td>\n",
       "      <td>28.08</td>\n",
       "      <td>282.21</td>\n",
       "      <td>12%</td>\n",
       "      <td>Yes</td>\n",
       "      <td>1st Wave</td>\n",
       "    </tr>\n",
       "    <tr>\n",
       "      <th>3176</th>\n",
       "      <td>OD117537329774872000</td>\n",
       "      <td>G1M1R5</td>\n",
       "      <td>2020-01-09</td>\n",
       "      <td>Uttar Pradesh</td>\n",
       "      <td>Prayagraj</td>\n",
       "      <td>211002</td>\n",
       "      <td>Cables Kart Jumbo Extended Waterproof Foldable...</td>\n",
       "      <td>Computers</td>\n",
       "      <td>Computer Peripherals</td>\n",
       "      <td>4.118337</td>\n",
       "      <td>1</td>\n",
       "      <td>358.00</td>\n",
       "      <td>0.0</td>\n",
       "      <td>59.00</td>\n",
       "      <td>45.61</td>\n",
       "      <td>417.00</td>\n",
       "      <td>18%</td>\n",
       "      <td>No</td>\n",
       "      <td>No</td>\n",
       "    </tr>\n",
       "    <tr>\n",
       "      <th>3177</th>\n",
       "      <td>OD120189180140808000</td>\n",
       "      <td>G1M1R5</td>\n",
       "      <td>2020-11-18</td>\n",
       "      <td>Uttar Pradesh</td>\n",
       "      <td>Prayagraj</td>\n",
       "      <td>211002</td>\n",
       "      <td>Realme Larger TV Installation and Demo</td>\n",
       "      <td>Home Entertainment</td>\n",
       "      <td>Televisions</td>\n",
       "      <td>4.300000</td>\n",
       "      <td>1</td>\n",
       "      <td>500.00</td>\n",
       "      <td>0.0</td>\n",
       "      <td>0.00</td>\n",
       "      <td>0.00</td>\n",
       "      <td>500.00</td>\n",
       "      <td>0%</td>\n",
       "      <td>No</td>\n",
       "      <td>1st Wave</td>\n",
       "    </tr>\n",
       "    <tr>\n",
       "      <th>3178</th>\n",
       "      <td>OD506851927718236000</td>\n",
       "      <td>G1M1R8</td>\n",
       "      <td>2020-08-20</td>\n",
       "      <td>Karnataka</td>\n",
       "      <td>Bengaluru</td>\n",
       "      <td>560016</td>\n",
       "      <td>Philips HD2595/09 800 W Pop Up Toaster</td>\n",
       "      <td>Home &amp; Kitchen</td>\n",
       "      <td>Kitchen Appliances</td>\n",
       "      <td>4.100000</td>\n",
       "      <td>1</td>\n",
       "      <td>849.00</td>\n",
       "      <td>0.0</td>\n",
       "      <td>0.00</td>\n",
       "      <td>107.51</td>\n",
       "      <td>849.00</td>\n",
       "      <td>12%</td>\n",
       "      <td>No</td>\n",
       "      <td>1st Wave</td>\n",
       "    </tr>\n",
       "  </tbody>\n",
       "</table>\n",
       "<p>3179 rows × 19 columns</p>\n",
       "</div>"
      ],
      "text/plain": [
       "                Invoice ID Name on Invoice Order Date          State  \\\n",
       "0     OD103719706054443200          G3M1R1 2015-08-23          Delhi   \n",
       "1     OD106420064045076000          G3M1R1 2016-01-07          Delhi   \n",
       "2     OD106420064045076001          G3M1R1 2016-01-07          Delhi   \n",
       "3     OD109711988579254000          G3M1R2 2017-07-17          Delhi   \n",
       "4     OD109711988579254000          G3M1R2 2017-07-18          Delhi   \n",
       "...                    ...             ...        ...            ...   \n",
       "3174      FAC5OU2100002091         G1M2R12 2020-05-18         Kerala   \n",
       "3175      FADVJD2100007635         G1M2R12 2020-10-18         Kerala   \n",
       "3176  OD117537329774872000          G1M1R5 2020-01-09  Uttar Pradesh   \n",
       "3177  OD120189180140808000          G1M1R5 2020-11-18  Uttar Pradesh   \n",
       "3178  OD506851927718236000          G1M1R8 2020-08-20      Karnataka   \n",
       "\n",
       "           City     Pin                                             Title   \\\n",
       "0     New Delhi  110063          Nova 2 SLICE SANDWICH GRILL MAKER Black &   \n",
       "1     New Delhi  110031                          Omron HEM-7120 Bp MonitoR   \n",
       "2     New Delhi  110032  Johnson & Johnson One Touch Select Glucose Mon...   \n",
       "3     New Delhi  110003                HAANS Shakeit 500 ml Shaker, Sipper   \n",
       "4     New Delhi  110003     Muscletech Premium 100% Whey Protein Chocolate   \n",
       "...         ...     ...                                                ...   \n",
       "3174  Anakkayam  676509            Patanjali DIVYA MADHUNASHINI VATI EXTRA   \n",
       "3175  Anakkayam  676509                  DIVYA PHARMACY KAISHORE GUGGUL 80   \n",
       "3176  Prayagraj  211002  Cables Kart Jumbo Extended Waterproof Foldable...   \n",
       "3177  Prayagraj  211002             Realme Larger TV Installation and Demo   \n",
       "3178  Bengaluru  560016             Philips HD2595/09 800 W Pop Up Toaster   \n",
       "\n",
       "                             Categories         Subcategories   Ratings  \\\n",
       "0                        Home & Kitchen    Kitchen Appliances  4.100000   \n",
       "1     Health & Personal Care Appliances           Health Care  4.300000   \n",
       "2              Clothing and Accessories                 Books  4.500000   \n",
       "3                    Exercise & Fitness   Fitness Accessories  4.300000   \n",
       "4                           Health Care    Health Supplements  4.100000   \n",
       "...                                 ...                   ...       ...   \n",
       "3174                        Health Care        Home Medicines  4.200000   \n",
       "3175                        Health Care        Home Medicines  3.900000   \n",
       "3176                          Computers  Computer Peripherals  4.118337   \n",
       "3177                 Home Entertainment           Televisions  4.300000   \n",
       "3178                     Home & Kitchen    Kitchen Appliances  4.100000   \n",
       "\n",
       "      Quantity      MRP  Discount  Delivery Fee     GST  Final Price GST%%  \\\n",
       "0            1  1370.33       0.0        174.67  195.66      1545.00   18%   \n",
       "1            1  1164.76       0.0         95.24   60.00      1260.00    5%   \n",
       "2            1   596.67       0.0        133.33   34.77       730.00    5%   \n",
       "3            1   199.00       0.0          0.00   30.36       199.00   18%   \n",
       "4            1  4162.00       0.0          0.00  910.44      4162.00   28%   \n",
       "...        ...      ...       ...           ...     ...          ...   ...   \n",
       "3174         1   563.00       0.0         59.00    0.00       622.00    0%   \n",
       "3175         1   234.00       0.0         48.21   28.08       282.21   12%   \n",
       "3176         1   358.00       0.0         59.00   45.61       417.00   18%   \n",
       "3177         1   500.00       0.0          0.00    0.00       500.00    0%   \n",
       "3178         1   849.00       0.0          0.00  107.51       849.00   12%   \n",
       "\n",
       "     Sale     Covid  \n",
       "0      No        No  \n",
       "1      No        No  \n",
       "2      No        No  \n",
       "3      No        No  \n",
       "4      No        No  \n",
       "...   ...       ...  \n",
       "3174   No        No  \n",
       "3175  Yes  1st Wave  \n",
       "3176   No        No  \n",
       "3177   No  1st Wave  \n",
       "3178   No  1st Wave  \n",
       "\n",
       "[3179 rows x 19 columns]"
      ]
     },
     "execution_count": 81,
     "metadata": {},
     "output_type": "execute_result"
    }
   ],
   "source": [
    "purchase_data_final"
   ]
  },
  {
   "cell_type": "code",
   "execution_count": 83,
   "id": "6d6af967",
   "metadata": {},
   "outputs": [],
   "source": [
    "purchase_data_final.to_csv('dump.csv')"
   ]
  },
  {
   "cell_type": "code",
   "execution_count": 82,
   "id": "aa76b5f8",
   "metadata": {},
   "outputs": [],
   "source": [
    "def covid_or_not(df,start_date,end_date,wave):\n",
    "    df.loc[(df['Order Date']>start_date)  & (df['Order Date']<=end_date),'Covid'] = wave\n",
    "    df['Order Date'] = pd.to_datetime(df['Order Date'])\n",
    "    return df\n",
    "purchase_data_final['Covid'] = 'No'\n",
    "purchase_data_final = covid_or_not(purchase_data_final,'2020-04-01','2020-10-30','1st Wave')\n",
    "purchase_data_final = covid_or_not(purchase_data_final,'2021-03-20','2021-06-03','2nd Wave')\n",
    "\n"
   ]
  },
  {
   "cell_type": "markdown",
   "id": "450f6aa4",
   "metadata": {},
   "source": [
    "###### Tiers"
   ]
  },
  {
   "cell_type": "code",
   "execution_count": 7,
   "id": "72b4d340",
   "metadata": {},
   "outputs": [],
   "source": [
    "tier_1 = ['Delhi','Pune','Ahmedabad','Bengaluru','Chennai','Hyderabad','Kolkata','Mumbai']\n",
    "tier_2 = ['Agra','Ajmer','Aligarh','Amravati','Amritsar','Asansol','Aurangabad','Bareilly','Belgaum','Bhavnagar','Bhiwandi','Bhopal','Bhubaneswar',\n",
    "'Bikaner','Bilaspur','Bokaro Steel City','Chandigarh','Coimbatore','Cuttack','Dehradun','Dhanbad','Bhilai','Durgapur','Erode','Faridabad',\n",
    "'Firozabad','Ghaziabad','Gorakhpur','Gulbarga','Guntur','Gwalior','Gurugram','Guwahati','Hamirpur','Hubli–Dharwad','Indore','Jabalpur',\n",
    "'Jaipur','Jalandhar','Jalgaon','Jammu','Jamnagar','Jamshedpur','Jhansi','Jodhpur','Navi Mumbai ','Kakinada','Kannur','Kanpur','Karnal',\n",
    "'Kochi','Kolhapur','Kollam','Kozhikode','Kurnool','Ludhiana','Lucknow','Madurai','Malappuram','Mathura','Mangalore','Meerut','Moradabad',\n",
    "'Mysore','Nagpur','Nanded','Nashik','Nellore','Navi Mumbai','Noida','Patna','Puducherry','Purulia','Prayagraj','Raipur','Rajkot','Rajamahendravaram',\n",
    "'Ranchi','Rourkela','Ratlam','Salem','Sangli','Shimla','Siliguri','Solapur','Srinagar','Surat','Thanjavur','Thiruvananthapuram','Thrissur',\n",
    "'Tiruchirappalli','Tirunelveli','Tiruvannamalai','Ujjain','Vijayapura','Vadodara','Varanasi','Vasai-Virar City','Vijayawada','Visakhapatnam','Vellore and Warangal']"
   ]
  },
  {
   "cell_type": "code",
   "execution_count": 128,
   "id": "d06ac8d6",
   "metadata": {},
   "outputs": [],
   "source": [
    "purchase_data_final['City_Tier'] = 'Tier 3'\n",
    "\n",
    "for i in tier_1:\n",
    "    purchase_data_final.loc[purchase_data_final['State']==i,'City_Tier'] = 'Tier_1'\n",
    "for i in tier_1:\n",
    "    purchase_data_final.loc[purchase_data_final['City']==i,'City_Tier'] = 'Tier_1'\n",
    "    \n",
    "    \n",
    "for i in tier_2:\n",
    "    purchase_data_final.loc[purchase_data_final['City']==i,'City_Tier'] = 'Tier_2'"
   ]
  },
  {
   "cell_type": "markdown",
   "id": "12bc380b",
   "metadata": {},
   "source": [
    "###### Discount %"
   ]
  },
  {
   "cell_type": "code",
   "execution_count": 136,
   "id": "7522915f",
   "metadata": {},
   "outputs": [],
   "source": [
    "purchase_data_final['Discount%'] = np.ceil(100*purchase_data_final['Discount']/purchase_data_final['MRP'])"
   ]
  },
  {
   "cell_type": "markdown",
   "id": "416f679a",
   "metadata": {},
   "source": [
    "###### Delievery Fee%"
   ]
  },
  {
   "cell_type": "code",
   "execution_count": 138,
   "id": "41d74326",
   "metadata": {},
   "outputs": [],
   "source": [
    "purchase_data_final['Delivery Fee%'] = np.ceil(100*purchase_data_final['Delivery Fee']/purchase_data_final['MRP'])"
   ]
  },
  {
   "cell_type": "markdown",
   "id": "4712c95d",
   "metadata": {},
   "source": [
    "###### Checkpoint 2"
   ]
  },
  {
   "cell_type": "code",
   "execution_count": 146,
   "id": "b18fccca",
   "metadata": {},
   "outputs": [],
   "source": [
    "purchase_data_final.drop(['GST','Discount','Unnamed: 0','Pin','Title ','Delivery Fee'],axis=1,inplace=True)\n",
    "\n",
    "purchase_data_final.to_csv('Cleaned_Combined_Purchase_data_Final_Feature_Engineering_2.csv')\n"
   ]
  },
  {
   "cell_type": "code",
   "execution_count": null,
   "id": "0b785b31",
   "metadata": {},
   "outputs": [],
   "source": []
  },
  {
   "cell_type": "markdown",
   "id": "e28705e6",
   "metadata": {},
   "source": [
    "## 2.2) Survey Data"
   ]
  },
  {
   "cell_type": "code",
   "execution_count": 2,
   "id": "ce70198b",
   "metadata": {},
   "outputs": [],
   "source": [
    "survey_data_final = pd.read_csv('Cleaned_Survey_data.csv')"
   ]
  },
  {
   "cell_type": "markdown",
   "id": "e2c11ef4",
   "metadata": {},
   "source": [
    "###### Age"
   ]
  },
  {
   "cell_type": "code",
   "execution_count": 3,
   "id": "8015d365",
   "metadata": {},
   "outputs": [],
   "source": [
    "pd.options.mode.chained_assignment = 'warn'\n",
    "now = pd.Timestamp('now')\n",
    "survey_data_final['Date of birth'] = pd.to_datetime(survey_data_final['Date of birth'])\n",
    "survey_data_final['Date of birth'] = pd.to_datetime(survey_data_final['Date of birth'], format='%m%d%y')\n",
    "survey_data_final['Date of birth'] = survey_data_final['Date of birth'].where(survey_data_final['Date of birth'] < now, survey_data_final['Date of birth'] -  np.timedelta64(100, 'Y'))   # 2\n",
    "survey_data_final['Age'] = (now - survey_data_final['Date of birth']).astype('<m8[Y]')    # 3"
   ]
  },
  {
   "cell_type": "markdown",
   "id": "95d2780d",
   "metadata": {},
   "source": [
    "###### has_child"
   ]
  },
  {
   "cell_type": "code",
   "execution_count": 4,
   "id": "428ee179",
   "metadata": {},
   "outputs": [],
   "source": [
    "survey_data_final['has_child'] = 'No'\n",
    "survey_data_final.loc[survey_data_final['Number of children']>0,'has_child'] = 'Yes'"
   ]
  },
  {
   "cell_type": "code",
   "execution_count": 8,
   "id": "b7b22391",
   "metadata": {},
   "outputs": [],
   "source": [
    "survey_data_final['Lives_in_city_tier'] = 'Tier 3'\n",
    "\n",
    "\n",
    "for i in tier_1:\n",
    "    survey_data_final.loc[survey_data_final['Current City of Residence']==i,'Lives_in_city_tier'] = 'Tier_1'\n",
    "    \n",
    "    \n",
    "for i in tier_2:\n",
    "    survey_data_final.loc[survey_data_final['Current City of Residence']==i,'Lives_in_city_tier'] = 'Tier_2'"
   ]
  },
  {
   "cell_type": "code",
   "execution_count": 9,
   "id": "af316c86",
   "metadata": {},
   "outputs": [],
   "source": [
    "survey_data_final.drop(['Date of birth','Number of children','Unnamed: 0','Current City of Residence'],axis=1,inplace=True)\n"
   ]
  },
  {
   "cell_type": "code",
   "execution_count": 10,
   "id": "1bc37f8e",
   "metadata": {},
   "outputs": [],
   "source": [
    "survey_data_final.to_csv('Cleaned_Survey_data_Final_Feature_Engineering_2.csv')\n"
   ]
  },
  {
   "cell_type": "code",
   "execution_count": null,
   "id": "f91fbbc3",
   "metadata": {},
   "outputs": [],
   "source": []
  }
 ],
 "metadata": {
  "kernelspec": {
   "display_name": "Python 3",
   "language": "python",
   "name": "python3"
  },
  "language_info": {
   "codemirror_mode": {
    "name": "ipython",
    "version": 3
   },
   "file_extension": ".py",
   "mimetype": "text/x-python",
   "name": "python",
   "nbconvert_exporter": "python",
   "pygments_lexer": "ipython3",
   "version": "3.8.8"
  }
 },
 "nbformat": 4,
 "nbformat_minor": 5
}
